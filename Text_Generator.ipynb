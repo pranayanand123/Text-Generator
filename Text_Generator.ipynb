{
 "cells": [
  {
   "cell_type": "code",
   "execution_count": 1,
   "metadata": {},
   "outputs": [
    {
     "name": "stderr",
     "output_type": "stream",
     "text": [
      "Using TensorFlow backend.\n"
     ]
    }
   ],
   "source": [
    "import numpy\n",
    "from keras.models import Sequential\n",
    "from keras.layers import Dense\n",
    "from keras.layers import Dropout\n",
    "from keras.layers import LSTM\n",
    "from keras.utils import np_utils"
   ]
  },
  {
   "cell_type": "code",
   "execution_count": 18,
   "metadata": {},
   "outputs": [
    {
     "data": {
      "text/plain": [
       "119751"
      ]
     },
     "execution_count": 18,
     "metadata": {},
     "output_type": "execute_result"
    }
   ],
   "source": [
    "filename = \"pg1041.txt\"\n",
    "text = (open(filename).read()).lower()\n",
    "len(text)"
   ]
  },
  {
   "cell_type": "code",
   "execution_count": 6,
   "metadata": {},
   "outputs": [],
   "source": [
    "unique_chars = sorted(list(set(text)))"
   ]
  },
  {
   "cell_type": "code",
   "execution_count": 7,
   "metadata": {
    "collapsed": true
   },
   "outputs": [
    {
     "data": {
      "text/plain": [
       "['\\n',\n",
       " ' ',\n",
       " '!',\n",
       " '\"',\n",
       " '#',\n",
       " '$',\n",
       " '%',\n",
       " \"'\",\n",
       " '(',\n",
       " ')',\n",
       " '*',\n",
       " ',',\n",
       " '-',\n",
       " '.',\n",
       " '/',\n",
       " '0',\n",
       " '1',\n",
       " '2',\n",
       " '3',\n",
       " '4',\n",
       " '5',\n",
       " '6',\n",
       " '7',\n",
       " '8',\n",
       " '9',\n",
       " ':',\n",
       " ';',\n",
       " '?',\n",
       " '@',\n",
       " '[',\n",
       " ']',\n",
       " 'a',\n",
       " 'b',\n",
       " 'c',\n",
       " 'd',\n",
       " 'e',\n",
       " 'f',\n",
       " 'g',\n",
       " 'h',\n",
       " 'i',\n",
       " 'j',\n",
       " 'k',\n",
       " 'l',\n",
       " 'm',\n",
       " 'n',\n",
       " 'o',\n",
       " 'p',\n",
       " 'q',\n",
       " 'r',\n",
       " 's',\n",
       " 't',\n",
       " 'u',\n",
       " 'v',\n",
       " 'w',\n",
       " 'x',\n",
       " 'y',\n",
       " 'z',\n",
       " '»',\n",
       " '¿',\n",
       " 'ï']"
      ]
     },
     "execution_count": 7,
     "metadata": {},
     "output_type": "execute_result"
    }
   ],
   "source": [
    "unique_chars"
   ]
  },
  {
   "cell_type": "code",
   "execution_count": 8,
   "metadata": {},
   "outputs": [],
   "source": [
    "\"\"\"string = \"Hello world, whats up. How you doing?\"\"\"\"\n"
   ]
  },
  {
   "cell_type": "code",
   "execution_count": 12,
   "metadata": {
    "collapsed": true
   },
   "outputs": [
    {
     "data": {
      "text/plain": [
       "[' ',\n",
       " ',',\n",
       " '.',\n",
       " '?',\n",
       " 'a',\n",
       " 'd',\n",
       " 'e',\n",
       " 'g',\n",
       " 'h',\n",
       " 'i',\n",
       " 'l',\n",
       " 'n',\n",
       " 'o',\n",
       " 'p',\n",
       " 'r',\n",
       " 's',\n",
       " 't',\n",
       " 'u',\n",
       " 'w',\n",
       " 'y']"
      ]
     },
     "execution_count": 12,
     "metadata": {},
     "output_type": "execute_result"
    }
   ],
   "source": [
    "\"\"\"sorted(list(set(string.lower())))\"\"\""
   ]
  },
  {
   "cell_type": "code",
   "execution_count": 20,
   "metadata": {},
   "outputs": [],
   "source": [
    "int_to_char = {ix:char for ix, char in enumerate(unique_chars)}\n",
    "char_to_int = {char:ix for ix, char in enumerate(unique_chars)}"
   ]
  },
  {
   "cell_type": "code",
   "execution_count": 21,
   "metadata": {},
   "outputs": [],
   "source": [
    "X = []\n",
    "Y = []\n",
    "for i in range(0, len(text) - 50, 1):\n",
    "\tsequence = text[i:i + 50]\n",
    "\tlabel =text[i + 50]\n",
    "\tX.append([char_to_int[char] for char in sequence])\n",
    "\tY.append(char_to_int[label])\n",
    "\"\"\"result for \"hello india\"\n",
    "X\t             Y\n",
    "[h, e, l, l]\t[o]\n",
    "[e, l, l, o]\t[ ]\n",
    "[l, l, o,  ]\t[i]\n",
    "[l, o,  , i]\t[n]\n",
    "\"\"\"\n",
    "\n",
    "    \n",
    "X_modified = numpy.reshape(X, (len(X), 50, 1))\n",
    "X_modified = X_modified / float(len(unique_chars))\n",
    "Y_modified = np_utils.to_categorical(Y)\n",
    "\n",
    "\n",
    "\"\"\"X_modified\t             Y_modified\n",
    "[[ 0.44444444],\n",
    "[ 0.33333333],\n",
    "[ 0.66666667],\n",
    "[ 0.66666667]]\t    [ 0.,  0.,  0.,  0.,  0.,  0.,  0.,  0.,  1.]\n",
    "[[ 0.33333333],\n",
    "[ 0.66666667],\n",
    "[ 0.66666667],\n",
    "[ 0.88888889]]\t     [ 1.,  0.,  0.,  0.,  0.,  0.,  0.,  0.,  0.]\n",
    "[[ 0.66666667],\n",
    "[ 0.66666667],\n",
    "[ 0.88888889],\n",
    "[ 0.        ]]\t     [ 0.,  0.,  0.,  0.,  0.,  1.,  0.,  0.,  0.]\n",
    "[[ 0.66666667],\n",
    "[ 0.88888889],\n",
    "[ 0.        ] \n",
    "[ 0.55555556]]\t     [ 0.,  0.,  0.,  0.,  0.,  0.,  0.,  1.,  0.]\"\"\""
   ]
  },
  {
   "cell_type": "code",
   "execution_count": 22,
   "metadata": {},
   "outputs": [],
   "source": [
    "model = Sequential()\n",
    "model.add(LSTM(300, input_shape=(X_modified.shape[1], X_modified.shape[2]), return_sequences=True))\n",
    "model.add(Dropout(0.2))\n",
    "model.add(LSTM(300))\n",
    "model.add(Dropout(0.2))\n",
    "model.add(Dense(Y_modified.shape[1], activation='softmax'))\n",
    "model.compile(loss='categorical_crossentropy', optimizer='adam')"
   ]
  },
  {
   "cell_type": "code",
   "execution_count": 25,
   "metadata": {},
   "outputs": [
    {
     "name": "stdout",
     "output_type": "stream",
     "text": [
      "Epoch 1/5\n",
      "119701/119701 [==============================] - 2208s 18ms/step - loss: 2.4941\n",
      "Epoch 2/5\n",
      "119701/119701 [==============================] - 2217s 19ms/step - loss: 2.3487\n",
      "Epoch 3/5\n",
      "119701/119701 [==============================] - 2400s 20ms/step - loss: 2.2307\n",
      "Epoch 4/5\n",
      "119701/119701 [==============================] - 2514s 21ms/step - loss: 2.1341\n",
      "Epoch 5/5\n",
      "119701/119701 [==============================] - 2634s 22ms/step - loss: 2.0567\n"
     ]
    },
    {
     "data": {
      "text/plain": [
       "<keras.callbacks.History at 0x21971b339e8>"
      ]
     },
     "execution_count": 25,
     "metadata": {},
     "output_type": "execute_result"
    }
   ],
   "source": [
    "model.fit(X_modified, Y_modified, epochs=5, batch_size=30)"
   ]
  },
  {
   "cell_type": "code",
   "execution_count": 31,
   "metadata": {},
   "outputs": [],
   "source": [
    "model.save('txt_model.h5')"
   ]
  },
  {
   "cell_type": "code",
   "execution_count": 45,
   "metadata": {},
   "outputs": [
    {
     "data": {
      "text/plain": [
       "'e once unkind befriends me now,\\n  and for that sore the sheet of the semf,\\n  the wirh the sea thee t'"
      ]
     },
     "execution_count": 45,
     "metadata": {},
     "output_type": "execute_result"
    }
   ],
   "source": [
    "start_index = numpy.random.randint(0, len(X)-1)\n",
    "new_string = X[start_index]\n",
    "full_string = [int_to_char[value] for value in new_string]\n",
    "for i in range(50):\n",
    "\tx = numpy.reshape(new_string, (1, len(new_string), 1))\n",
    "\tx = x / float(len(unique_chars))\n",
    "\t\t\t\t\n",
    "\t#predicting\n",
    "\tpred_index = numpy.argmax(model.predict(x, verbose=0))\n",
    "\t\t\t\t\n",
    "\tchar_out = int_to_char[pred_index]\n",
    "\tseq_in = [int_to_char[value] for value in new_string]\n",
    "\tfull_string.append(int_to_char[pred_index])\n",
    "\tnew_string.append(pred_index)\n",
    "\tnew_string = new_string[1:len(new_string)]\n",
    "    \n",
    "txt=\"\"\n",
    "for char in full_string:\n",
    "    txt = txt+char\n",
    "txt"
   ]
  },
  {
   "cell_type": "code",
   "execution_count": null,
   "metadata": {},
   "outputs": [],
   "source": []
  },
  {
   "cell_type": "code",
   "execution_count": null,
   "metadata": {},
   "outputs": [],
   "source": []
  }
 ],
 "metadata": {
  "kernelspec": {
   "display_name": "Python 3",
   "language": "python",
   "name": "python3"
  },
  "language_info": {
   "codemirror_mode": {
    "name": "ipython",
    "version": 3
   },
   "file_extension": ".py",
   "mimetype": "text/x-python",
   "name": "python",
   "nbconvert_exporter": "python",
   "pygments_lexer": "ipython3",
   "version": "3.6.4"
  }
 },
 "nbformat": 4,
 "nbformat_minor": 2
}
